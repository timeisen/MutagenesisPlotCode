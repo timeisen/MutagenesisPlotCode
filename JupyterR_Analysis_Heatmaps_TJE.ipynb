{
 "cells": [
  {
   "cell_type": "markdown",
   "metadata": {},
   "source": [
    "A sample analysis workflow for R, starting with count data.  \n",
    "Timothy J. Eisen  \n",
    "April 7, 2022"
   ]
  },
  {
   "cell_type": "code",
   "execution_count": 2,
   "metadata": {},
   "outputs": [
    {
     "name": "stderr",
     "output_type": "stream",
     "text": [
      "── \u001b[1mAttaching packages\u001b[22m ─────────────────────────────────────── tidyverse 1.3.0 ──\n",
      "\n",
      "\u001b[32m✔\u001b[39m \u001b[34mggplot2\u001b[39m 3.3.2     \u001b[32m✔\u001b[39m \u001b[34mpurrr  \u001b[39m 0.3.4\n",
      "\u001b[32m✔\u001b[39m \u001b[34mtibble \u001b[39m 3.0.3     \u001b[32m✔\u001b[39m \u001b[34mdplyr  \u001b[39m 1.0.2\n",
      "\u001b[32m✔\u001b[39m \u001b[34mtidyr  \u001b[39m 1.1.2     \u001b[32m✔\u001b[39m \u001b[34mstringr\u001b[39m 1.4.0\n",
      "\u001b[32m✔\u001b[39m \u001b[34mreadr  \u001b[39m 1.3.1     \u001b[32m✔\u001b[39m \u001b[34mforcats\u001b[39m 0.5.0\n",
      "\n",
      "── \u001b[1mConflicts\u001b[22m ────────────────────────────────────────── tidyverse_conflicts() ──\n",
      "\u001b[31m✖\u001b[39m \u001b[34mdplyr\u001b[39m::\u001b[32mfilter()\u001b[39m masks \u001b[34mstats\u001b[39m::filter()\n",
      "\u001b[31m✖\u001b[39m \u001b[34mdplyr\u001b[39m::\u001b[32mlag()\u001b[39m    masks \u001b[34mstats\u001b[39m::lag()\n",
      "\n"
     ]
    },
    {
     "name": "stdout",
     "output_type": "stream",
     "text": [
      "log_ticks usage:\n",
      "labels = log_ticks(start,end)[[1]]\n",
      "breaks = log_ticks(start,end)[[2]] \n",
      "row order: E D K R H P Q N T S A G M C V I L Y F W X \n"
     ]
    },
    {
     "name": "stderr",
     "output_type": "stream",
     "text": [
      "\n",
      "Attaching package: ‘ggpubr’\n",
      "\n",
      "\n",
      "The following object is masked from ‘package:cowplot’:\n",
      "\n",
      "    get_legend\n",
      "\n",
      "\n"
     ]
    },
    {
     "name": "stdout",
     "output_type": "stream",
     "text": [
      "Loading tidyverse, cowplot, ggpubr, and gtools.\n",
      "Functions: plot_corr_grid(df)\n",
      "Assume all columns are numeric\n",
      "Pearson or spearman?\n"
     ]
    },
    {
     "name": "stderr",
     "output_type": "stream",
     "text": [
      "corrplot 0.84 loaded\n",
      "\n"
     ]
    }
   ],
   "source": [
    "#Imports\n",
    "library(tidyverse)\n",
    "source(\"ggplot_theme.R\") #Tim's themes\n",
    "source(\"r_helpers.R\") #Some multiuse code\n",
    "library(readxl)\n",
    "library(ggpubr)\n",
    "library(ggrepel)\n",
    "library(corrplot)\n",
    "library(cowplot)"
   ]
  },
  {
   "cell_type": "code",
   "execution_count": 3,
   "metadata": {},
   "outputs": [],
   "source": [
    "#parameters\n",
    "READ_CUTOFF = 50\n",
    "PSEUDOCOUNT = 1\n",
    "BACKGROUND = 0 #How much background should be subtracted? 0.22 is the ratio of masses after the gel extraction. "
   ]
  },
  {
   "cell_type": "code",
   "execution_count": 4,
   "metadata": {},
   "outputs": [],
   "source": [
    "select <- dplyr::select #Don't overload the select operator from tidy, MASS package"
   ]
  },
  {
   "cell_type": "code",
   "execution_count": 5,
   "metadata": {},
   "outputs": [
    {
     "name": "stderr",
     "output_type": "stream",
     "text": [
      "Parsed with column specification:\n",
      "cols(\n",
      "  seq_name = \u001b[31mcol_character()\u001b[39m,\n",
      "  wt_codon = \u001b[31mcol_character()\u001b[39m,\n",
      "  pos = \u001b[32mcol_double()\u001b[39m,\n",
      "  var_codon = \u001b[31mcol_character()\u001b[39m,\n",
      "  wt_aa = \u001b[31mcol_character()\u001b[39m,\n",
      "  var_aa = \u001b[31mcol_character()\u001b[39m\n",
      ")\n",
      "\n"
     ]
    },
    {
     "name": "stdout",
     "output_type": "stream",
     "text": [
      "\u001b[38;5;246m# A tibble: 1,155 x 8\u001b[39m\n",
      "   seq_name               wt_codon aapos   pos var_codon_aa var_codon wt_aa\n",
      "   \u001b[3m\u001b[38;5;246m<chr>\u001b[39m\u001b[23m                  \u001b[3m\u001b[38;5;246m<chr>\u001b[39m\u001b[23m    \u001b[3m\u001b[38;5;246m<chr>\u001b[39m\u001b[23m \u001b[3m\u001b[38;5;246m<dbl>\u001b[39m\u001b[23m \u001b[3m\u001b[38;5;246m<chr>\u001b[39m\u001b[23m        \u001b[3m\u001b[38;5;246m<chr>\u001b[39m\u001b[23m     \u001b[3m\u001b[38;5;246m<chr>\u001b[39m\u001b[23m\n",
      "\u001b[38;5;250m 1\u001b[39m TJE_WT_activation_loop WT       wt_0      0 wt_wt        wt        wt   \n",
      "\u001b[38;5;250m 2\u001b[39m TJE_TCT538TGA_S538X    TCT      S_538   538 X_TGA        TGA       S    \n",
      "\u001b[38;5;250m 3\u001b[39m TJE_TCT538TAA_S538X    TCT      S_538   538 X_TAA        TAA       S    \n",
      "\u001b[38;5;250m 4\u001b[39m TJE_TCT538GCC_S538A    TCT      S_538   538 A_GCC        GCC       S    \n",
      "\u001b[38;5;250m 5\u001b[39m TJE_TCT538GCT_S538A    TCT      S_538   538 A_GCT        GCT       S    \n",
      "\u001b[38;5;250m 6\u001b[39m TJE_TCT538TGC_S538C    TCT      S_538   538 C_TGC        TGC       S    \n",
      "\u001b[38;5;250m 7\u001b[39m TJE_TCT538TGT_S538C    TCT      S_538   538 C_TGT        TGT       S    \n",
      "\u001b[38;5;250m 8\u001b[39m TJE_TCT538GAC_S538D    TCT      S_538   538 D_GAC        GAC       S    \n",
      "\u001b[38;5;250m 9\u001b[39m TJE_TCT538GAT_S538D    TCT      S_538   538 D_GAT        GAT       S    \n",
      "\u001b[38;5;250m10\u001b[39m TJE_TCT538GAG_S538E    TCT      S_538   538 E_GAG        GAG       S    \n",
      "   var_aa\n",
      "   \u001b[3m\u001b[38;5;246m<chr>\u001b[39m\u001b[23m \n",
      "\u001b[38;5;250m 1\u001b[39m wt    \n",
      "\u001b[38;5;250m 2\u001b[39m X     \n",
      "\u001b[38;5;250m 3\u001b[39m X     \n",
      "\u001b[38;5;250m 4\u001b[39m A     \n",
      "\u001b[38;5;250m 5\u001b[39m A     \n",
      "\u001b[38;5;250m 6\u001b[39m C     \n",
      "\u001b[38;5;250m 7\u001b[39m C     \n",
      "\u001b[38;5;250m 8\u001b[39m D     \n",
      "\u001b[38;5;250m 9\u001b[39m D     \n",
      "\u001b[38;5;250m10\u001b[39m E     \n",
      "\u001b[38;5;246m# … with 1,145 more rows\u001b[39m\n"
     ]
    }
   ],
   "source": [
    "#This file is a tab-delimited file that describes the variant name, position, and codon information. \n",
    "#I make it for each library that I prep, let me know if you want help constructing it. \n",
    "VarTable <- read_tsv(\"BTK_activation_loop_20210924_SeqNames.txt\") %>%\n",
    "    unite(col = aapos, wt_aa, pos, remove = FALSE) %>%\n",
    "    unite(col = var_codon_aa, var_aa, var_codon, remove = FALSE) %>%\n",
    "    print(width = Inf)"
   ]
  },
  {
   "cell_type": "code",
   "execution_count": 6,
   "metadata": {},
   "outputs": [
    {
     "name": "stderr",
     "output_type": "stream",
     "text": [
      "Parsed with column specification:\n",
      "cols(\n",
      "  file = \u001b[31mcol_character()\u001b[39m,\n",
      "  data_type = \u001b[31mcol_character()\u001b[39m,\n",
      "  rep = \u001b[32mcol_double()\u001b[39m\n",
      ")\n",
      "\n"
     ]
    },
    {
     "name": "stdout",
     "output_type": "stream",
     "text": [
      "\u001b[38;5;246m# A tibble: 8 x 3\u001b[39m\n",
      "  file                                                   data_type   rep\n",
      "  \u001b[3m\u001b[38;5;246m<chr>\u001b[39m\u001b[23m                                                  \u001b[3m\u001b[38;5;246m<chr>\u001b[39m\u001b[23m     \u001b[3m\u001b[38;5;246m<dbl>\u001b[39m\u001b[23m\n",
      "\u001b[38;5;250m1\u001b[39m ../Analysis20220304/grep_quant_twist3/s55_grep_out.txt input         1\n",
      "\u001b[38;5;250m2\u001b[39m ../Analysis20220304/grep_quant_twist3/s63_grep_out.txt sort          1\n",
      "\u001b[38;5;250m3\u001b[39m ../Analysis20220304/grep_quant_twist3/s71_grep_out.txt input         2\n",
      "\u001b[38;5;250m4\u001b[39m ../Analysis20220304/grep_quant_twist3/s56_grep_out.txt sort          2\n",
      "\u001b[38;5;250m5\u001b[39m ../Analysis20220304/grep_quant_twist3/s64_grep_out.txt input         3\n",
      "\u001b[38;5;250m6\u001b[39m ../Analysis20220304/grep_quant_twist3/s72_grep_out.txt sort          3\n",
      "\u001b[38;5;250m7\u001b[39m ../Analysis20220304/grep_quant_twist3/s49_grep_out.txt input         4\n",
      "\u001b[38;5;250m8\u001b[39m ../Analysis20220304/grep_quant_twist3/s57_grep_out.txt sort          4\n"
     ]
    }
   ],
   "source": [
    "#metadata about the count files\n",
    "dataset_annotations <- read_tsv(\"annotations_activation_loop.txt\") %>% print()"
   ]
  },
  {
   "cell_type": "markdown",
   "metadata": {},
   "source": [
    "The data format is a basic kallisto counting output, which I now use for everything even when I'm not using kallisto. I'll include a sample below.  \n",
    "The only required fields are \"target_id\" and \"est_counts\""
   ]
  },
  {
   "cell_type": "code",
   "execution_count": 3,
   "metadata": {},
   "outputs": [
    {
     "name": "stderr",
     "output_type": "stream",
     "text": [
      "Parsed with column specification:\n",
      "cols(\n",
      "  target_id = \u001b[31mcol_character()\u001b[39m,\n",
      "  sequence = \u001b[31mcol_character()\u001b[39m,\n",
      "  est_counts = \u001b[32mcol_double()\u001b[39m\n",
      ")\n",
      "\n"
     ]
    },
    {
     "name": "stdout",
     "output_type": "stream",
     "text": [
      "\u001b[38;5;246m# A tibble: 1,155 x 3\u001b[39m\n",
      "   target_id             \n",
      "   \u001b[3m\u001b[38;5;246m<chr>\u001b[39m\u001b[23m                 \n",
      "\u001b[38;5;250m 1\u001b[39m TJE_WT_activation_loop\n",
      "\u001b[38;5;250m 2\u001b[39m TJE_TCT538TGA_S538X   \n",
      "\u001b[38;5;250m 3\u001b[39m TJE_TCT538TAA_S538X   \n",
      "\u001b[38;5;250m 4\u001b[39m TJE_TCT538GCC_S538A   \n",
      "\u001b[38;5;250m 5\u001b[39m TJE_TCT538GCT_S538A   \n",
      "\u001b[38;5;250m 6\u001b[39m TJE_TCT538TGC_S538C   \n",
      "\u001b[38;5;250m 7\u001b[39m TJE_TCT538TGT_S538C   \n",
      "\u001b[38;5;250m 8\u001b[39m TJE_TCT538GAC_S538D   \n",
      "\u001b[38;5;250m 9\u001b[39m TJE_TCT538GAT_S538D   \n",
      "\u001b[38;5;250m10\u001b[39m TJE_TCT538GAG_S538E   \n",
      "   sequence                                                                     \n",
      "   \u001b[3m\u001b[38;5;246m<chr>\u001b[39m\u001b[23m                                                                        \n",
      "\u001b[38;5;250m 1\u001b[39m ACGATCAAGGAGTTGTTAAAGTATCTGATTTCGGCCTGTCCAGGTATGTCCTGGATGATGAATACACAAGCTCAGT…\n",
      "\u001b[38;5;250m 2\u001b[39m ACGATCAAGGAGTTGTTAAAGTATGAGATTTCGGCCTGTCCAGGTATGTCCTGGATGATGAATACACAAGCTCAGT…\n",
      "\u001b[38;5;250m 3\u001b[39m ACGATCAAGGAGTTGTTAAAGTATAAGATTTCGGCCTGTCCAGGTATGTCCTGGATGATGAATACACAAGCTCAGT…\n",
      "\u001b[38;5;250m 4\u001b[39m ACGATCAAGGAGTTGTTAAAGTAGCCGATTTCGGCCTGTCCAGGTATGTCCTGGATGATGAATACACAAGCTCAGT…\n",
      "\u001b[38;5;250m 5\u001b[39m ACGATCAAGGAGTTGTTAAAGTAGCTGATTTCGGCCTGTCCAGGTATGTCCTGGATGATGAATACACAAGCTCAGT…\n",
      "\u001b[38;5;250m 6\u001b[39m ACGATCAAGGAGTTGTTAAAGTATGCGATTTCGGCCTGTCCAGGTATGTCCTGGATGATGAATACACAAGCTCAGT…\n",
      "\u001b[38;5;250m 7\u001b[39m ACGATCAAGGAGTTGTTAAAGTATGTGATTTCGGCCTGTCCAGGTATGTCCTGGATGATGAATACACAAGCTCAGT…\n",
      "\u001b[38;5;250m 8\u001b[39m ACGATCAAGGAGTTGTTAAAGTAGACGATTTCGGCCTGTCCAGGTATGTCCTGGATGATGAATACACAAGCTCAGT…\n",
      "\u001b[38;5;250m 9\u001b[39m ACGATCAAGGAGTTGTTAAAGTAGATGATTTCGGCCTGTCCAGGTATGTCCTGGATGATGAATACACAAGCTCAGT…\n",
      "\u001b[38;5;250m10\u001b[39m ACGATCAAGGAGTTGTTAAAGTAGAGGATTTCGGCCTGTCCAGGTATGTCCTGGATGATGAATACACAAGCTCAGT…\n",
      "   est_counts\n",
      "        \u001b[3m\u001b[38;5;246m<dbl>\u001b[39m\u001b[23m\n",
      "\u001b[38;5;250m 1\u001b[39m      \u001b[4m4\u001b[24m\u001b[4m5\u001b[24m213\n",
      "\u001b[38;5;250m 2\u001b[39m         24\n",
      "\u001b[38;5;250m 3\u001b[39m         36\n",
      "\u001b[38;5;250m 4\u001b[39m        159\n",
      "\u001b[38;5;250m 5\u001b[39m        105\n",
      "\u001b[38;5;250m 6\u001b[39m         58\n",
      "\u001b[38;5;250m 7\u001b[39m          5\n",
      "\u001b[38;5;250m 8\u001b[39m        142\n",
      "\u001b[38;5;250m 9\u001b[39m         67\n",
      "\u001b[38;5;250m10\u001b[39m         19\n",
      "\u001b[38;5;246m# … with 1,145 more rows\u001b[39m\n"
     ]
    }
   ],
   "source": [
    "#an example data file\n",
    "read_tsv('../Analysis20220304/grep_quant_twist3/s55_grep_out.txt') %>%\n",
    "    print(width = Inf)"
   ]
  },
  {
   "cell_type": "code",
   "execution_count": 8,
   "metadata": {},
   "outputs": [
    {
     "name": "stderr",
     "output_type": "stream",
     "text": [
      "Parsed with column specification:\n",
      "cols(\n",
      "  target_id = \u001b[31mcol_character()\u001b[39m,\n",
      "  sequence = \u001b[31mcol_character()\u001b[39m,\n",
      "  est_counts = \u001b[32mcol_double()\u001b[39m\n",
      ")\n",
      "\n",
      "Parsed with column specification:\n",
      "cols(\n",
      "  target_id = \u001b[31mcol_character()\u001b[39m,\n",
      "  sequence = \u001b[31mcol_character()\u001b[39m,\n",
      "  est_counts = \u001b[32mcol_double()\u001b[39m\n",
      ")\n",
      "\n",
      "Parsed with column specification:\n",
      "cols(\n",
      "  target_id = \u001b[31mcol_character()\u001b[39m,\n",
      "  sequence = \u001b[31mcol_character()\u001b[39m,\n",
      "  est_counts = \u001b[32mcol_double()\u001b[39m\n",
      ")\n",
      "\n",
      "Parsed with column specification:\n",
      "cols(\n",
      "  target_id = \u001b[31mcol_character()\u001b[39m,\n",
      "  sequence = \u001b[31mcol_character()\u001b[39m,\n",
      "  est_counts = \u001b[32mcol_double()\u001b[39m\n",
      ")\n",
      "\n",
      "Parsed with column specification:\n",
      "cols(\n",
      "  target_id = \u001b[31mcol_character()\u001b[39m,\n",
      "  sequence = \u001b[31mcol_character()\u001b[39m,\n",
      "  est_counts = \u001b[32mcol_double()\u001b[39m\n",
      ")\n",
      "\n",
      "Parsed with column specification:\n",
      "cols(\n",
      "  target_id = \u001b[31mcol_character()\u001b[39m,\n",
      "  sequence = \u001b[31mcol_character()\u001b[39m,\n",
      "  est_counts = \u001b[32mcol_double()\u001b[39m\n",
      ")\n",
      "\n",
      "Parsed with column specification:\n",
      "cols(\n",
      "  target_id = \u001b[31mcol_character()\u001b[39m,\n",
      "  sequence = \u001b[31mcol_character()\u001b[39m,\n",
      "  est_counts = \u001b[32mcol_double()\u001b[39m\n",
      ")\n",
      "\n",
      "Parsed with column specification:\n",
      "cols(\n",
      "  target_id = \u001b[31mcol_character()\u001b[39m,\n",
      "  sequence = \u001b[31mcol_character()\u001b[39m,\n",
      "  est_counts = \u001b[32mcol_double()\u001b[39m\n",
      ")\n",
      "\n"
     ]
    },
    {
     "name": "stdout",
     "output_type": "stream",
     "text": [
      "\u001b[38;5;246m# A tibble: 4,620 x 4\u001b[39m\n",
      "   seq_name                 rep input   sort\n",
      "   \u001b[3m\u001b[38;5;246m<chr>\u001b[39m\u001b[23m                  \u001b[3m\u001b[38;5;246m<dbl>\u001b[39m\u001b[23m \u001b[3m\u001b[38;5;246m<dbl>\u001b[39m\u001b[23m  \u001b[3m\u001b[38;5;246m<dbl>\u001b[39m\u001b[23m\n",
      "\u001b[38;5;250m 1\u001b[39m TJE_WT_activation_loop     1 \u001b[4m4\u001b[24m\u001b[4m5\u001b[24m213 \u001b[4m1\u001b[24m\u001b[4m3\u001b[24m\u001b[4m1\u001b[24m675\n",
      "\u001b[38;5;250m 2\u001b[39m TJE_TCT538TGA_S538X        1    24     38\n",
      "\u001b[38;5;250m 3\u001b[39m TJE_TCT538TAA_S538X        1    36     34\n",
      "\u001b[38;5;250m 4\u001b[39m TJE_TCT538GCC_S538A        1   159    215\n",
      "\u001b[38;5;250m 5\u001b[39m TJE_TCT538GCT_S538A        1   105    283\n",
      "\u001b[38;5;250m 6\u001b[39m TJE_TCT538TGC_S538C        1    58    218\n",
      "\u001b[38;5;250m 7\u001b[39m TJE_TCT538TGT_S538C        1     5    244\n",
      "\u001b[38;5;250m 8\u001b[39m TJE_TCT538GAC_S538D        1   142    172\n",
      "\u001b[38;5;250m 9\u001b[39m TJE_TCT538GAT_S538D        1    67     83\n",
      "\u001b[38;5;250m10\u001b[39m TJE_TCT538GAG_S538E        1    19    101\n",
      "\u001b[38;5;246m# … with 4,610 more rows\u001b[39m\n"
     ]
    }
   ],
   "source": [
    "#import the data\n",
    "all_data_list <- lapply(seq(nrow(dataset_annotations)), function(x){\n",
    "    file = dataset_annotations[x,]$file\n",
    "    data_type = dataset_annotations[x,]$data_type\n",
    "    rep = dataset_annotations[x,]$rep\n",
    "    data_tib = read_tsv(file) %>% select(seq_name = target_id, est_counts) %>%\n",
    "        mutate(data = data_type, rep = rep)\n",
    "    return(data_tib)})\n",
    "\n",
    "mAll <- bind_rows(all_data_list) %>% pivot_wider(names_from = data, values_from = est_counts) %>% print()\n",
    "write_tsv(mAll, path = 'processed_files/CountsCompiled_20220407.txt')"
   ]
  },
  {
   "cell_type": "code",
   "execution_count": 56,
   "metadata": {},
   "outputs": [
    {
     "name": "stdout",
     "output_type": "stream",
     "text": [
      "\u001b[38;5;246m# A tibble: 4,620 x 12\u001b[39m\n",
      "   seq_name                 rep input   sort sort_norm wt_codon aapos   pos\n",
      "   \u001b[3m\u001b[38;5;246m<chr>\u001b[39m\u001b[23m                  \u001b[3m\u001b[38;5;246m<dbl>\u001b[39m\u001b[23m \u001b[3m\u001b[38;5;246m<dbl>\u001b[39m\u001b[23m  \u001b[3m\u001b[38;5;246m<dbl>\u001b[39m\u001b[23m     \u001b[3m\u001b[38;5;246m<dbl>\u001b[39m\u001b[23m \u001b[3m\u001b[38;5;246m<chr>\u001b[39m\u001b[23m    \u001b[3m\u001b[38;5;246m<chr>\u001b[39m\u001b[23m \u001b[3m\u001b[38;5;246m<dbl>\u001b[39m\u001b[23m\n",
      "\u001b[38;5;250m 1\u001b[39m TJE_WT_activation_loop     1 \u001b[4m4\u001b[24m\u001b[4m5\u001b[24m214 \u001b[4m1\u001b[24m\u001b[4m3\u001b[24m\u001b[4m1\u001b[24m676    0.464  WT       wt_0      0\n",
      "\u001b[38;5;250m 2\u001b[39m TJE_TCT538TGA_S538X        1    25     39   \u001b[31mNA\u001b[39m      TCT      S_538   538\n",
      "\u001b[38;5;250m 3\u001b[39m TJE_TCT538TAA_S538X        1    37     35   \u001b[31mNA\u001b[39m      TCT      S_538   538\n",
      "\u001b[38;5;250m 4\u001b[39m TJE_TCT538GCC_S538A        1   160    216    0.130  TCT      S_538   538\n",
      "\u001b[38;5;250m 5\u001b[39m TJE_TCT538GCT_S538A        1   106    284    0.428  TCT      S_538   538\n",
      "\u001b[38;5;250m 6\u001b[39m TJE_TCT538TGC_S538C        1    59    219    0.570  TCT      S_538   538\n",
      "\u001b[38;5;250m 7\u001b[39m TJE_TCT538TGT_S538C        1     6    245   \u001b[31mNA\u001b[39m      TCT      S_538   538\n",
      "\u001b[38;5;250m 8\u001b[39m TJE_TCT538GAC_S538D        1   143    173    0.082\u001b[4m7\u001b[24m TCT      S_538   538\n",
      "\u001b[38;5;250m 9\u001b[39m TJE_TCT538GAT_S538D        1    68     84    0.091\u001b[4m8\u001b[24m TCT      S_538   538\n",
      "\u001b[38;5;250m10\u001b[39m TJE_TCT538GAG_S538E        1    20    102   \u001b[31mNA\u001b[39m      TCT      S_538   538\n",
      "   var_codon_aa var_codon wt_aa var_aa\n",
      "   \u001b[3m\u001b[38;5;246m<chr>\u001b[39m\u001b[23m        \u001b[3m\u001b[38;5;246m<chr>\u001b[39m\u001b[23m     \u001b[3m\u001b[38;5;246m<chr>\u001b[39m\u001b[23m \u001b[3m\u001b[38;5;246m<chr>\u001b[39m\u001b[23m \n",
      "\u001b[38;5;250m 1\u001b[39m wt_wt        wt        wt    wt    \n",
      "\u001b[38;5;250m 2\u001b[39m X_TGA        TGA       S     X     \n",
      "\u001b[38;5;250m 3\u001b[39m X_TAA        TAA       S     X     \n",
      "\u001b[38;5;250m 4\u001b[39m A_GCC        GCC       S     A     \n",
      "\u001b[38;5;250m 5\u001b[39m A_GCT        GCT       S     A     \n",
      "\u001b[38;5;250m 6\u001b[39m C_TGC        TGC       S     C     \n",
      "\u001b[38;5;250m 7\u001b[39m C_TGT        TGT       S     C     \n",
      "\u001b[38;5;250m 8\u001b[39m D_GAC        GAC       S     D     \n",
      "\u001b[38;5;250m 9\u001b[39m D_GAT        GAT       S     D     \n",
      "\u001b[38;5;250m10\u001b[39m E_GAG        GAG       S     E     \n",
      "\u001b[38;5;246m# … with 4,610 more rows\u001b[39m\n",
      "\u001b[38;5;246m# A tibble: 4,620 x 13\u001b[39m\n",
      "   seq_name                 rep input   sort sort_norm wt_codon aapos   pos\n",
      "   \u001b[3m\u001b[38;5;246m<chr>\u001b[39m\u001b[23m                  \u001b[3m\u001b[38;5;246m<dbl>\u001b[39m\u001b[23m \u001b[3m\u001b[38;5;246m<dbl>\u001b[39m\u001b[23m  \u001b[3m\u001b[38;5;246m<dbl>\u001b[39m\u001b[23m     \u001b[3m\u001b[38;5;246m<dbl>\u001b[39m\u001b[23m \u001b[3m\u001b[38;5;246m<chr>\u001b[39m\u001b[23m    \u001b[3m\u001b[38;5;246m<chr>\u001b[39m\u001b[23m \u001b[3m\u001b[38;5;246m<dbl>\u001b[39m\u001b[23m\n",
      "\u001b[38;5;250m 1\u001b[39m TJE_WT_activation_loop     1 \u001b[4m4\u001b[24m\u001b[4m5\u001b[24m214 \u001b[4m1\u001b[24m\u001b[4m3\u001b[24m\u001b[4m1\u001b[24m676    0      WT       wt_0      0\n",
      "\u001b[38;5;250m 2\u001b[39m TJE_TCT538TGA_S538X        1    25     39   \u001b[31mNA\u001b[39m      TCT      S_538   538\n",
      "\u001b[38;5;250m 3\u001b[39m TJE_TCT538TAA_S538X        1    37     35   \u001b[31mNA\u001b[39m      TCT      S_538   538\n",
      "\u001b[38;5;250m 4\u001b[39m TJE_TCT538GCC_S538A        1   160    216   -\u001b[31m0\u001b[39m\u001b[31m.\u001b[39m\u001b[31m263\u001b[39m  TCT      S_538   538\n",
      "\u001b[38;5;250m 5\u001b[39m TJE_TCT538GCT_S538A        1   106    284    0.034\u001b[4m7\u001b[24m TCT      S_538   538\n",
      "\u001b[38;5;250m 6\u001b[39m TJE_TCT538TGC_S538C        1    59    219    0.176  TCT      S_538   538\n",
      "\u001b[38;5;250m 7\u001b[39m TJE_TCT538TGT_S538C        1     6    245   \u001b[31mNA\u001b[39m      TCT      S_538   538\n",
      "\u001b[38;5;250m 8\u001b[39m TJE_TCT538GAC_S538D        1   143    173   -\u001b[31m0\u001b[39m\u001b[31m.\u001b[39m\u001b[31m311\u001b[39m  TCT      S_538   538\n",
      "\u001b[38;5;250m 9\u001b[39m TJE_TCT538GAT_S538D        1    68     84   -\u001b[31m0\u001b[39m\u001b[31m.\u001b[39m\u001b[31m302\u001b[39m  TCT      S_538   538\n",
      "\u001b[38;5;250m10\u001b[39m TJE_TCT538GAG_S538E        1    20    102   \u001b[31mNA\u001b[39m      TCT      S_538   538\n",
      "   var_codon_aa var_codon wt_aa var_aa wt_variant\n",
      "   \u001b[3m\u001b[38;5;246m<chr>\u001b[39m\u001b[23m        \u001b[3m\u001b[38;5;246m<chr>\u001b[39m\u001b[23m     \u001b[3m\u001b[38;5;246m<chr>\u001b[39m\u001b[23m \u001b[3m\u001b[38;5;246m<chr>\u001b[39m\u001b[23m  \u001b[3m\u001b[38;5;246m<lgl>\u001b[39m\u001b[23m     \n",
      "\u001b[38;5;250m 1\u001b[39m wt_wt        wt        wt    wt     TRUE      \n",
      "\u001b[38;5;250m 2\u001b[39m X_TGA        TGA       S     X      FALSE     \n",
      "\u001b[38;5;250m 3\u001b[39m X_TAA        TAA       S     X      FALSE     \n",
      "\u001b[38;5;250m 4\u001b[39m A_GCC        GCC       S     A      FALSE     \n",
      "\u001b[38;5;250m 5\u001b[39m A_GCT        GCT       S     A      FALSE     \n",
      "\u001b[38;5;250m 6\u001b[39m C_TGC        TGC       S     C      FALSE     \n",
      "\u001b[38;5;250m 7\u001b[39m C_TGT        TGT       S     C      FALSE     \n",
      "\u001b[38;5;250m 8\u001b[39m D_GAC        GAC       S     D      FALSE     \n",
      "\u001b[38;5;250m 9\u001b[39m D_GAT        GAT       S     D      FALSE     \n",
      "\u001b[38;5;250m10\u001b[39m E_GAG        GAG       S     E      FALSE     \n",
      "\u001b[38;5;246m# … with 4,610 more rows\u001b[39m\n"
     ]
    }
   ],
   "source": [
    "#Normalization of the data.\n",
    "mNorm <- mAll %>% \n",
    "    mutate(\n",
    "            input = input + PSEUDOCOUNT, #adding pseudocounts\n",
    "            sort  = sort + PSEUDOCOUNT,\n",
    "            sort_norm = log10(sort / input), #enrichments\n",
    "            sort_norm = ifelse(input < READ_CUTOFF, NA, sort_norm)) %>% #cutoffs\n",
    "        left_join(VarTable, by = 'seq_name') %>%\n",
    "        print(width = Inf) %>%\n",
    "        mutate( #which are the wt?\n",
    "            wt_variant = if_else(wt_aa == var_aa | str_detect(seq_name, \"_WT_\"), TRUE, FALSE)) %>%\n",
    "        group_by(wt_variant, rep) %>% #wt averaging\n",
    "        mutate( #make the wt seq an average of all the WT seqs\n",
    "            sort_norm = ifelse(seq_name == 'TJE_WT_activation_loop', mean(sort_norm, na.rm = TRUE), sort_norm)) %>%\n",
    "        ungroup() %>%\n",
    "        group_by(rep) %>% #this next block normalizes everything to the WT\n",
    "        mutate(sort_norm = sort_norm - sort_norm[seq_name == 'TJE_WT_activation_loop']) %>% \n",
    "        ungroup() %>%\n",
    "        print(width = Inf)\n",
    "write_tsv(mNorm, path = 'processed_files/NormalizedData_20220407.txt')"
   ]
  },
  {
   "cell_type": "code",
   "execution_count": 19,
   "metadata": {},
   "outputs": [
    {
     "name": "stderr",
     "output_type": "stream",
     "text": [
      "Saving 7 x 7 in image\n",
      "\n",
      "Warning message:\n",
      "“Removed 801 rows containing non-finite values (stat_bin).”\n"
     ]
    }
   ],
   "source": [
    "#fitness plots, histogram\n",
    "p <- ggplot(mNorm, aes(x = sort_norm)) +\n",
    "        geom_histogram(bins = 100) + \n",
    "        scale_y_continuous(expand = c(0,0)) + \n",
    "        geom_vline(xintercept = 0, linetype = 'dashed', color = 'grey') +\n",
    "        facet_wrap(~as.character(rep)) +\n",
    "        theme_tim_label()\n",
    "ggsave(plot = p, file = 'plots/FitnessHistograms.pdf')"
   ]
  },
  {
   "cell_type": "code",
   "execution_count": 45,
   "metadata": {},
   "outputs": [
    {
     "name": "stderr",
     "output_type": "stream",
     "text": [
      "`summarise()` regrouping output by 'var_codon' (override with `.groups` argument)\n",
      "\n"
     ]
    }
   ],
   "source": [
    "CountsByAA <- mNorm %>%\n",
    "    filter(!wt_variant) %>% #for this analysis, remove the wt\n",
    "    group_by(var_codon, rep) %>%\n",
    "    summarise(sum_input = sum(input, na.rm = TRUE)) %>%\n",
    "    ungroup() %>%\n",
    "    mutate(Type = ifelse(var_codon %in% c(\"TAA\", \"TGA\", \"TAG\"), \"Nonsense\", \"Missense\"))\n",
    "\n",
    "pCountsByAA <- ggplot(CountsByAA, aes(x = sum_input, fill = Type)) +\n",
    "    geom_histogram(bins = 10) +\n",
    "    scale_x_continuous(expand = c(0,0)) +\n",
    "    scale_y_continuous(expand = c(0,0)) +\n",
    "    facet_wrap(~(as.character(rep)), scales = 'free_x') +\n",
    "    theme_tim_label()\n",
    "\n",
    "ggsave(plot = pCountsByAA, file = 'plots/pCountsByAA.pdf', width = 6, height = 4)"
   ]
  },
  {
   "cell_type": "code",
   "execution_count": 49,
   "metadata": {},
   "outputs": [
    {
     "name": "stderr",
     "output_type": "stream",
     "text": [
      "`summarise()` regrouping output by 'var_codon_aa', 'rep' (override with `.groups` argument)\n",
      "\n"
     ]
    },
    {
     "name": "stdout",
     "output_type": "stream",
     "text": [
      "\u001b[38;5;246m# A tibble: 4,364 x 4\u001b[39m\n",
      "   var_codon_aa   rep   pos sum_input\n",
      "   \u001b[3m\u001b[38;5;246m<chr>\u001b[39m\u001b[23m        \u001b[3m\u001b[38;5;246m<dbl>\u001b[39m\u001b[23m \u001b[3m\u001b[38;5;246m<dbl>\u001b[39m\u001b[23m     \u001b[3m\u001b[38;5;246m<dbl>\u001b[39m\u001b[23m\n",
      "\u001b[38;5;250m 1\u001b[39m A_GCC            1   538       160\n",
      "\u001b[38;5;250m 2\u001b[39m A_GCC            1   539        88\n",
      "\u001b[38;5;250m 3\u001b[39m A_GCC            1   540       114\n",
      "\u001b[38;5;250m 4\u001b[39m A_GCC            1   541       118\n",
      "\u001b[38;5;250m 5\u001b[39m A_GCC            1   542       202\n",
      "\u001b[38;5;250m 6\u001b[39m A_GCC            1   543        21\n",
      "\u001b[38;5;250m 7\u001b[39m A_GCC            1   544        11\n",
      "\u001b[38;5;250m 8\u001b[39m A_GCC            1   545        31\n",
      "\u001b[38;5;250m 9\u001b[39m A_GCC            1   546        83\n",
      "\u001b[38;5;250m10\u001b[39m A_GCC            1   547       236\n",
      "\u001b[38;5;246m# … with 4,354 more rows\u001b[39m\n"
     ]
    },
    {
     "name": "stderr",
     "output_type": "stream",
     "text": [
      "Saving 7 x 7 in image\n",
      "\n"
     ]
    }
   ],
   "source": [
    "#are there positions that are overrepresented in the input data?\n",
    "CountsByPos <- mNorm %>%\n",
    "    filter(!wt_variant) %>% #for this analysis, remove the wt variants\n",
    "    group_by(var_codon_aa, rep, pos) %>%\n",
    "    summarise(sum_input = sum(input, na.rm = TRUE)) %>%\n",
    "    ungroup() %>%\n",
    "    print()\n",
    "\n",
    "pCountsByPos <- ggplot(CountsByPos, aes(x = pos, y = sum_input, fill = var_codon_aa)) +\n",
    "    scale_x_continuous(expand = c(0,0)) +\n",
    "    scale_y_continuous(expand = c(0,0)) +\n",
    "    geom_col() +\n",
    "    ggtitle('Counts by position') +\n",
    "    facet_wrap(~(as.character(rep))) +\n",
    "    theme_tim_label()\n",
    "\n",
    "ggsave(plot = pCountsByPos, file = 'plots/CountsByPos.pdf')"
   ]
  },
  {
   "cell_type": "code",
   "execution_count": 57,
   "metadata": {},
   "outputs": [
    {
     "name": "stdout",
     "output_type": "stream",
     "text": [
      "\u001b[38;5;246m# A tibble: 0 x 13\u001b[39m\n",
      "\u001b[38;5;246m# … with 13 variables: seq_name \u001b[3m\u001b[38;5;246m<chr>\u001b[38;5;246m\u001b[23m, rep \u001b[3m\u001b[38;5;246m<dbl>\u001b[38;5;246m\u001b[23m, input \u001b[3m\u001b[38;5;246m<dbl>\u001b[38;5;246m\u001b[23m, sort \u001b[3m\u001b[38;5;246m<dbl>\u001b[38;5;246m\u001b[23m,\u001b[39m\n",
      "\u001b[38;5;246m#   sort_norm \u001b[3m\u001b[38;5;246m<dbl>\u001b[38;5;246m\u001b[23m, wt_codon \u001b[3m\u001b[38;5;246m<chr>\u001b[38;5;246m\u001b[23m, aapos \u001b[3m\u001b[38;5;246m<chr>\u001b[38;5;246m\u001b[23m, pos \u001b[3m\u001b[38;5;246m<dbl>\u001b[38;5;246m\u001b[23m,\u001b[39m\n",
      "\u001b[38;5;246m#   var_codon_aa \u001b[3m\u001b[38;5;246m<chr>\u001b[38;5;246m\u001b[23m, var_codon \u001b[3m\u001b[38;5;246m<chr>\u001b[38;5;246m\u001b[23m, wt_aa \u001b[3m\u001b[38;5;246m<chr>\u001b[38;5;246m\u001b[23m, var_aa \u001b[3m\u001b[38;5;246m<chr>\u001b[38;5;246m\u001b[23m,\u001b[39m\n",
      "\u001b[38;5;246m#   wt_variant \u001b[3m\u001b[38;5;246m<lgl>\u001b[38;5;246m\u001b[23m\u001b[39m\n"
     ]
    },
    {
     "name": "stderr",
     "output_type": "stream",
     "text": [
      "Warning message:\n",
      "“Removed 801 rows containing non-finite values (stat_bin).”\n"
     ]
    }
   ],
   "source": [
    "#Enrichment histograms, by type\n",
    "mNorm %>% filter(is.na(wt_variant)) %>%\n",
    "    print(n = Inf, width = Inf)\n",
    "pEnrichmentHistograms <- ggplot(mNorm, aes(x = sort_norm, y = ..count.., color = wt_variant)) + \n",
    "    stat_bin(geom = \"step\", bins = 100, position = 'identity', size = 1) +\n",
    "    scale_y_continuous(expand = c(0,0)) +\n",
    "    scale_x_continuous() +\n",
    "    facet_wrap(~as.character(rep)) +\n",
    "    theme_tim_presentation()\n",
    "ggsave(plot = pEnrichmentHistograms, file = 'plots/EnrichmentHistograms.pdf', width = 8, height = 6)\n"
   ]
  },
  {
   "cell_type": "code",
   "execution_count": 60,
   "metadata": {},
   "outputs": [
    {
     "name": "stderr",
     "output_type": "stream",
     "text": [
      "Warning message:\n",
      "“Removed 341 rows containing non-finite values (stat_cor).”\n",
      "Warning message:\n",
      "“Removed 341 rows containing missing values (geom_point).”\n",
      "Warning message:\n",
      "“Removed 264 rows containing non-finite values (stat_cor).”\n",
      "Warning message:\n",
      "“Removed 264 rows containing missing values (geom_point).”\n",
      "Warning message:\n",
      "“Removed 380 rows containing non-finite values (stat_cor).”\n",
      "Warning message:\n",
      "“Removed 380 rows containing missing values (geom_point).”\n",
      "Warning message:\n",
      "“Removed 256 rows containing non-finite values (stat_cor).”\n",
      "Warning message:\n",
      "“Removed 256 rows containing missing values (geom_point).”\n",
      "Warning message:\n",
      "“Removed 382 rows containing non-finite values (stat_cor).”\n",
      "Warning message:\n",
      "“Removed 382 rows containing missing values (geom_point).”\n",
      "Warning message:\n",
      "“Removed 302 rows containing non-finite values (stat_cor).”\n",
      "Warning message:\n",
      "“Removed 302 rows containing missing values (geom_point).”\n"
     ]
    }
   ],
   "source": [
    "#comparison plots, by codon\n",
    "CompPlotsCodon <- mNorm %>% \n",
    "    filter(!wt_variant) %>%\n",
    "    select(rep, sort_norm, seq_name) %>%\n",
    "    pivot_wider(names_from = rep, values_from = sort_norm) %>%\n",
    "    select(-seq_name)\n",
    "\n",
    "pCompPlotsCodon <- plot_corr_grid(CompPlotsCodon)\n",
    "ggsave(pCompPlotsCodon, file = 'plots/pCompPlotsCodon.pdf', width = 8, height = 8)"
   ]
  },
  {
   "cell_type": "code",
   "execution_count": 73,
   "metadata": {},
   "outputs": [
    {
     "name": "stderr",
     "output_type": "stream",
     "text": [
      "`summarise()` regrouping output by 'rep', 'var_aa' (override with `.groups` argument)\n",
      "\n"
     ]
    },
    {
     "name": "stdout",
     "output_type": "stream",
     "text": [
      "\u001b[38;5;246m# A tibble: 560 x 6\u001b[39m\n",
      "     pos var_aa     `1`     `2`      `3`     `4`\n",
      "   \u001b[3m\u001b[38;5;246m<dbl>\u001b[39m\u001b[23m \u001b[3m\u001b[38;5;246m<chr>\u001b[39m\u001b[23m    \u001b[3m\u001b[38;5;246m<dbl>\u001b[39m\u001b[23m   \u001b[3m\u001b[38;5;246m<dbl>\u001b[39m\u001b[23m    \u001b[3m\u001b[38;5;246m<dbl>\u001b[39m\u001b[23m   \u001b[3m\u001b[38;5;246m<dbl>\u001b[39m\u001b[23m\n",
      "\u001b[38;5;250m 1\u001b[39m   538 A      -\u001b[31m0\u001b[39m\u001b[31m.\u001b[39m\u001b[31m114\u001b[39m   0.107  -\u001b[31m0\u001b[39m\u001b[31m.\u001b[39m\u001b[31m00\u001b[39m\u001b[31m8\u001b[4m9\u001b[24m\u001b[4m7\u001b[24m\u001b[39m -\u001b[31m0\u001b[39m\u001b[31m.\u001b[39m\u001b[31m0\u001b[39m\u001b[31m30\u001b[4m0\u001b[24m\u001b[39m\n",
      "\u001b[38;5;250m 2\u001b[39m   539 A      -\u001b[31m0\u001b[39m\u001b[31m.\u001b[39m\u001b[31m409\u001b[39m  \u001b[31mNA\u001b[39m      -\u001b[31m0\u001b[39m\u001b[31m.\u001b[39m\u001b[31m480\u001b[39m   \u001b[31mNA\u001b[39m     \n",
      "\u001b[38;5;250m 3\u001b[39m   540 A      -\u001b[31m0\u001b[39m\u001b[31m.\u001b[39m\u001b[31m720\u001b[39m  \u001b[31mNA\u001b[39m      -\u001b[31m0\u001b[39m\u001b[31m.\u001b[39m\u001b[31m412\u001b[39m   -\u001b[31m0\u001b[39m\u001b[31m.\u001b[39m\u001b[31m154\u001b[39m \n",
      "\u001b[38;5;250m 4\u001b[39m   541 A       0.031\u001b[4m6\u001b[24m -\u001b[31m0\u001b[39m\u001b[31m.\u001b[39m\u001b[31m257\u001b[39m  \u001b[31mNA\u001b[39m       \u001b[31mNA\u001b[39m     \n",
      "\u001b[38;5;250m 5\u001b[39m   542 A      -\u001b[31m0\u001b[39m\u001b[31m.\u001b[39m\u001b[31m0\u001b[39m\u001b[31m32\u001b[4m2\u001b[24m\u001b[39m  0.422   0.262   \u001b[31mNA\u001b[39m     \n",
      "\u001b[38;5;250m 6\u001b[39m   543 A      \u001b[31mNA\u001b[39m      -\u001b[31m0\u001b[39m\u001b[31m.\u001b[39m\u001b[31m0\u001b[39m\u001b[31m36\u001b[4m5\u001b[24m\u001b[39m \u001b[31mNA\u001b[39m       \u001b[31mNA\u001b[39m     \n",
      "\u001b[38;5;250m 7\u001b[39m   544 A      \u001b[31mNA\u001b[39m      \u001b[31mNA\u001b[39m      -\u001b[31m0\u001b[39m\u001b[31m.\u001b[39m\u001b[31m488\u001b[39m   -\u001b[31m0\u001b[39m\u001b[31m.\u001b[39m\u001b[31m390\u001b[39m \n",
      "\u001b[38;5;250m 8\u001b[39m   545 A      \u001b[31mNA\u001b[39m       0.182   0.575   \u001b[31mNA\u001b[39m     \n",
      "\u001b[38;5;250m 9\u001b[39m   546 A      -\u001b[31m0\u001b[39m\u001b[31m.\u001b[39m\u001b[31m514\u001b[39m  \u001b[31mNA\u001b[39m      -\u001b[31m0\u001b[39m\u001b[31m.\u001b[39m\u001b[31m373\u001b[39m   -\u001b[31m0\u001b[39m\u001b[31m.\u001b[39m\u001b[31m519\u001b[39m \n",
      "\u001b[38;5;250m10\u001b[39m   547 A      -\u001b[31m0\u001b[39m\u001b[31m.\u001b[39m\u001b[31m0\u001b[39m\u001b[31m70\u001b[4m3\u001b[24m\u001b[39m \u001b[31mNA\u001b[39m      -\u001b[31m0\u001b[39m\u001b[31m.\u001b[39m\u001b[31m207\u001b[39m   \u001b[31mNA\u001b[39m     \n",
      "\u001b[38;5;246m# … with 550 more rows\u001b[39m\n"
     ]
    },
    {
     "name": "stderr",
     "output_type": "stream",
     "text": [
      "Warning message:\n",
      "“Removed 260 rows containing non-finite values (stat_cor).”\n",
      "Warning message:\n",
      "“Removed 260 rows containing missing values (geom_point).”\n",
      "Warning message:\n",
      "“Removed 214 rows containing non-finite values (stat_cor).”\n",
      "Warning message:\n",
      "“Removed 214 rows containing missing values (geom_point).”\n",
      "Warning message:\n",
      "“Removed 296 rows containing non-finite values (stat_cor).”\n",
      "Warning message:\n",
      "“Removed 296 rows containing missing values (geom_point).”\n",
      "Warning message:\n",
      "“Removed 205 rows containing non-finite values (stat_cor).”\n",
      "Warning message:\n",
      "“Removed 205 rows containing missing values (geom_point).”\n",
      "Warning message:\n",
      "“Removed 286 rows containing non-finite values (stat_cor).”\n",
      "Warning message:\n",
      "“Removed 286 rows containing missing values (geom_point).”\n",
      "Warning message:\n",
      "“Removed 246 rows containing non-finite values (stat_cor).”\n",
      "Warning message:\n",
      "“Removed 246 rows containing missing values (geom_point).”\n"
     ]
    }
   ],
   "source": [
    "#comparison plots, succint\n",
    "CompPlotsAveraged <- mNorm %>% \n",
    "    filter(!wt_variant) %>%\n",
    "    select(rep, sort_norm, var_aa, pos) %>%\n",
    "    group_by(rep, var_aa, pos) %>%\n",
    "    summarise(aa_mean = mean(sort_norm)) %>%\n",
    "    ungroup() %>%\n",
    "    pivot_wider(names_from = rep, values_from = aa_mean, id_cols = c(pos, var_aa)) %>%\n",
    "    print() %>%\n",
    "    select(-pos, -var_aa)\n",
    "\n",
    "pCompPlotsAveraged <- plot_corr_grid(CompPlotsAveraged)\n",
    "ggsave(pCompPlotsAveraged, file = 'plots/pCompAll_CodonAveraged.pdf', width = 8, height = 8)"
   ]
  },
  {
   "cell_type": "code",
   "execution_count": 91,
   "metadata": {},
   "outputs": [
    {
     "name": "stderr",
     "output_type": "stream",
     "text": [
      "`summarise()` regrouping output by 'pos', 'var_codon', 'aapos', 'var_aa' (override with `.groups` argument)\n",
      "\n",
      "`summarise()` regrouping output by 'pos', 'var_aa', 'aapos' (override with `.groups` argument)\n",
      "\n"
     ]
    },
    {
     "name": "stdout",
     "output_type": "stream",
     "text": [
      "\u001b[38;5;246m# A tibble: 587 x 6\u001b[39m\n",
      "     pos var_aa aapos wt_variant avg_F_prop data_SD_prop\n",
      "   \u001b[3m\u001b[38;5;246m<dbl>\u001b[39m\u001b[23m \u001b[3m\u001b[38;5;246m<chr>\u001b[39m\u001b[23m  \u001b[3m\u001b[38;5;246m<chr>\u001b[39m\u001b[23m \u001b[3m\u001b[38;5;246m<lgl>\u001b[39m\u001b[23m           \u001b[3m\u001b[38;5;246m<dbl>\u001b[39m\u001b[23m        \u001b[3m\u001b[38;5;246m<dbl>\u001b[39m\u001b[23m\n",
      "\u001b[38;5;250m 1\u001b[39m   538 A      S_538 FALSE         -\u001b[31m0\u001b[39m\u001b[31m.\u001b[39m\u001b[31m0\u001b[39m\u001b[31m11\u001b[4m6\u001b[24m\u001b[39m       0.097\u001b[4m9\u001b[24m\n",
      "\u001b[38;5;250m 2\u001b[39m   538 C      S_538 FALSE          0.166        0.114 \n",
      "\u001b[38;5;250m 3\u001b[39m   538 D      S_538 FALSE         -\u001b[31m0\u001b[39m\u001b[31m.\u001b[39m\u001b[31m454\u001b[39m        0.219 \n",
      "\u001b[38;5;250m 4\u001b[39m   538 E      S_538 FALSE         -\u001b[31m0\u001b[39m\u001b[31m.\u001b[39m\u001b[31m264\u001b[39m        0.136 \n",
      "\u001b[38;5;250m 5\u001b[39m   538 F      S_538 FALSE          0.055\u001b[4m1\u001b[24m       0.182 \n",
      "\u001b[38;5;250m 6\u001b[39m   538 G      S_538 FALSE          0.169        0.192 \n",
      "\u001b[38;5;250m 7\u001b[39m   538 H      S_538 FALSE         -\u001b[31m0\u001b[39m\u001b[31m.\u001b[39m\u001b[31m147\u001b[39m        0.099\u001b[4m2\u001b[24m\n",
      "\u001b[38;5;250m 8\u001b[39m   538 I      S_538 FALSE        \u001b[31mNaN\u001b[39m            0     \n",
      "\u001b[38;5;250m 9\u001b[39m   538 K      S_538 FALSE         -\u001b[31m0\u001b[39m\u001b[31m.\u001b[39m\u001b[31m786\u001b[39m        0.191 \n",
      "\u001b[38;5;250m10\u001b[39m   538 L      S_538 FALSE         -\u001b[31m0\u001b[39m\u001b[31m.\u001b[39m\u001b[31m274\u001b[39m        0.227 \n",
      "\u001b[38;5;246m# … with 577 more rows\u001b[39m\n"
     ]
    },
    {
     "name": "stderr",
     "output_type": "stream",
     "text": [
      "Warning message:\n",
      "“Removed 2 rows containing missing values (position_stack).”\n"
     ]
    }
   ],
   "source": [
    "#barplots, show each residue with variance. \n",
    "#precursor to heatmap, which is in the next cell.\n",
    "AllDataAveragedNormalized <- mNorm %>% \n",
    "    filter(!str_detect(seq_name, '_WT_')) %>%\n",
    "    group_by(pos, var_codon, aapos, var_aa, wt_variant) %>%\n",
    "    summarise(avg_F = mean(sort_norm, na.rm = TRUE), #averaging over the reps.\n",
    "          data_SD = sd(sort_norm, na.rm = TRUE)) %>%\n",
    "    ungroup() %>%\n",
    "    group_by(pos, var_aa, aapos, wt_variant) %>%\n",
    "    summarise(avg_F_prop = mean(avg_F, na.rm = TRUE),\n",
    "    data_SD_prop = sqrt(sum((data_SD)^2, na.rm = TRUE) / 4)) %>%\n",
    "    ungroup() %>%\n",
    "    distinct_all() %>%\n",
    "    print()\n",
    "\n",
    "# deal with the tryptophan issue\n",
    "AllDataAveragedNormalized <- bind_rows(AllDataAveragedNormalized, tibble(\n",
    "    pos = 563,\n",
    "    wt_aa = 'W',\n",
    "    var_aa = 'W',\n",
    "    data_SD_prop = NA,\n",
    "    avg_F_prop = filter(AllDataAveragedNormalized, wt_aa == 'wt')$avg_F_prop,\n",
    "    aapos = 'W_563',\n",
    "    wt_variant = TRUE)) \n",
    "\n",
    "#specify no data\n",
    "AllDataAveragedNormalized <- AllDataAveragedNormalized %>% \n",
    "    mutate(BarLabels = ifelse(is.na(avg_F_prop), 'N.D.', ''))\n",
    "\n",
    "#order rows and columns\n",
    "AllDataAveragedNormalized$var_aa <- factor(AllDataAveragedNormalized$var_aa, levels = theme_roworder)\n",
    "AllDataAveragedNormalized$aapos <- factor(AllDataAveragedNormalized$aapos, levels = unique(AllDataAveragedNormalized$aapos))\n",
    "\n",
    "#plot\n",
    "pAvgNorm <- ggplot(AllDataAveragedNormalized %>% filter(aapos != 'wt_0'), aes(x = var_aa, y = avg_F_prop)) +\n",
    "        geom_col(aes(fill = wt_variant)) +\n",
    "        geom_errorbar(aes(ymin = avg_F_prop - data_SD_prop, ymax = avg_F_prop + data_SD_prop), width = 0.5) +\n",
    "        geom_text(aes(label = BarLabels, y = 0), size = 1, angle = 90) +\n",
    "        facet_wrap(~aapos, ncol = 6, scales = 'free_x') +\n",
    "        scale_x_discrete(name = 'Mutation') +\n",
    "        scale_fill_manual(values = c('grey55', 'blue')) +\n",
    "        scale_y_continuous(name = 'Mean of four replicates, with propagated error') +\n",
    "        theme_tim_label() +\n",
    "        theme(legend.position = \"none\")\n",
    "\n",
    "\n",
    "ggsave(plot = pAvgNorm, file = 'plots/pAvgNorm.pdf', width = 10, height = 8)"
   ]
  },
  {
   "cell_type": "code",
   "execution_count": 97,
   "metadata": {},
   "outputs": [
    {
     "name": "stdout",
     "output_type": "stream",
     "text": [
      "\u001b[38;5;246m# A tibble: 587 x 8\u001b[39m\n",
      "     pos var_aa aapos wt_variant avg_F_prop data_SD_prop wt_aa BarLabels\n",
      "   \u001b[3m\u001b[38;5;246m<dbl>\u001b[39m\u001b[23m \u001b[3m\u001b[38;5;246m<fct>\u001b[39m\u001b[23m  \u001b[3m\u001b[38;5;246m<fct>\u001b[39m\u001b[23m \u001b[3m\u001b[38;5;246m<lgl>\u001b[39m\u001b[23m           \u001b[3m\u001b[38;5;246m<dbl>\u001b[39m\u001b[23m        \u001b[3m\u001b[38;5;246m<dbl>\u001b[39m\u001b[23m \u001b[3m\u001b[38;5;246m<chr>\u001b[39m\u001b[23m \u001b[3m\u001b[38;5;246m<chr>\u001b[39m\u001b[23m    \n",
      "\u001b[38;5;250m 1\u001b[39m   538 A      S_538 FALSE         -\u001b[31m0\u001b[39m\u001b[31m.\u001b[39m\u001b[31m0\u001b[39m\u001b[31m11\u001b[4m6\u001b[24m\u001b[39m       0.097\u001b[4m9\u001b[24m \u001b[31mNA\u001b[39m    \u001b[38;5;246m\"\u001b[39m\u001b[38;5;246m\"\u001b[39m       \n",
      "\u001b[38;5;250m 2\u001b[39m   538 C      S_538 FALSE          0.166        0.114  \u001b[31mNA\u001b[39m    \u001b[38;5;246m\"\u001b[39m\u001b[38;5;246m\"\u001b[39m       \n",
      "\u001b[38;5;250m 3\u001b[39m   538 D      S_538 FALSE         -\u001b[31m0\u001b[39m\u001b[31m.\u001b[39m\u001b[31m454\u001b[39m        0.219  \u001b[31mNA\u001b[39m    \u001b[38;5;246m\"\u001b[39m\u001b[38;5;246m\"\u001b[39m       \n",
      "\u001b[38;5;250m 4\u001b[39m   538 E      S_538 FALSE         -\u001b[31m0\u001b[39m\u001b[31m.\u001b[39m\u001b[31m264\u001b[39m        0.136  \u001b[31mNA\u001b[39m    \u001b[38;5;246m\"\u001b[39m\u001b[38;5;246m\"\u001b[39m       \n",
      "\u001b[38;5;250m 5\u001b[39m   538 F      S_538 FALSE          0.055\u001b[4m1\u001b[24m       0.182  \u001b[31mNA\u001b[39m    \u001b[38;5;246m\"\u001b[39m\u001b[38;5;246m\"\u001b[39m       \n",
      "\u001b[38;5;250m 6\u001b[39m   538 G      S_538 FALSE          0.169        0.192  \u001b[31mNA\u001b[39m    \u001b[38;5;246m\"\u001b[39m\u001b[38;5;246m\"\u001b[39m       \n",
      "\u001b[38;5;250m 7\u001b[39m   538 H      S_538 FALSE         -\u001b[31m0\u001b[39m\u001b[31m.\u001b[39m\u001b[31m147\u001b[39m        0.099\u001b[4m2\u001b[24m \u001b[31mNA\u001b[39m    \u001b[38;5;246m\"\u001b[39m\u001b[38;5;246m\"\u001b[39m       \n",
      "\u001b[38;5;250m 8\u001b[39m   538 I      S_538 FALSE        \u001b[31mNaN\u001b[39m            0      \u001b[31mNA\u001b[39m    \u001b[38;5;246m\"\u001b[39mN.D.\u001b[38;5;246m\"\u001b[39m   \n",
      "\u001b[38;5;250m 9\u001b[39m   538 K      S_538 FALSE         -\u001b[31m0\u001b[39m\u001b[31m.\u001b[39m\u001b[31m786\u001b[39m        0.191  \u001b[31mNA\u001b[39m    \u001b[38;5;246m\"\u001b[39m\u001b[38;5;246m\"\u001b[39m       \n",
      "\u001b[38;5;250m10\u001b[39m   538 L      S_538 FALSE         -\u001b[31m0\u001b[39m\u001b[31m.\u001b[39m\u001b[31m274\u001b[39m        0.227  \u001b[31mNA\u001b[39m    \u001b[38;5;246m\"\u001b[39m\u001b[38;5;246m\"\u001b[39m       \n",
      "\u001b[38;5;246m# … with 577 more rows\u001b[39m\n"
     ]
    }
   ],
   "source": [
    "#This is the heatmap cell. \n",
    "HeatmapPlotData <- AllDataAveragedNormalized %>% \n",
    "    mutate(var_aa = factor(var_aa, levels = rev(theme_roworder))) %>%\n",
    "    print()\n",
    "\n",
    "pHeatmapActLoop <- ggplot(HeatmapPlotData, aes(x = aapos, y = var_aa, fill = avg_F_prop)) +\n",
    "\tgeom_tile() +\n",
    "    geom_tile(data = HeatmapPlotData %>% filter(wt_variant), color = \"black\") +\n",
    "    ggtitle(\"Activation Loop Heatmap\") + \n",
    "\tscale_fill_gradient2(low = \"blue\", mid = \"white\", high = \"red\") +\n",
    "    scale_x_discrete(name = \"Position\") + \n",
    "    scale_y_discrete(name = \"Variant\") + \n",
    "    theme_tim_label() +\n",
    "\ttheme(axis.text.x = element_text(angle = 90, vjust = 0.5, hjust=1, family = \"Courier\"))\n",
    "    ggsave(plot = pHeatmapActLoop, file = paste0('plots/pHeatmapActLoop.pdf'), width = 6, height = 3)\n"
   ]
  },
  {
   "cell_type": "code",
   "execution_count": null,
   "metadata": {},
   "outputs": [],
   "source": []
  }
 ],
 "metadata": {
  "kernelspec": {
   "display_name": "R",
   "language": "R",
   "name": "ir"
  },
  "language_info": {
   "codemirror_mode": "r",
   "file_extension": ".r",
   "mimetype": "text/x-r-source",
   "name": "R",
   "pygments_lexer": "r",
   "version": "4.0.3"
  }
 },
 "nbformat": 4,
 "nbformat_minor": 4
}
